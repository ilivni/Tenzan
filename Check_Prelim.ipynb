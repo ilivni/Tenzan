{
 "metadata": {
  "name": "",
  "signature": "sha256:9f05340bd37a6ff65168f3b46c36a8b8a780c868acaf85e894f9d5848c925a41"
 },
 "nbformat": 3,
 "nbformat_minor": 0,
 "worksheets": [
  {
   "cells": [
    {
     "cell_type": "markdown",
     "metadata": {},
     "source": [
      "# Check Prelim Against Our Trade List\n",
      "**Purpose:** Risk - Make sure that we know our position overnight\n",
      "\n",
      "**What does it do?:** \n",
      "1. This script checks our tading position against Advantages at the end of the day\n",
      "2. Saves our position from **hap** to a csv file for later analysis\n",
      "\n",
      "**How?:**\n",
      "1. Read Config file\n",
      "2. Open trade file from **happ**\n",
      "  * A generic function called open file - using an.ini file\n",
      "2. Convert to Pandas Dataframe\n",
      "3. Parse and Clean\n",
      "3. Open Advantage trade file\n",
      "4. convert to Pandas Dataframe\n",
      "  * Parse just for todays date\n",
      "5. Compare Files\n",
      "6. Print Confirmation to User:\n",
      "  * Date of Check\n",
      "  * No Difference\n",
      "  * We know xyz ... Advantage knows abc\n",
      "7. Save Trade file to CSV on Github\n",
      "\n",
      "# Start of Script"
     ]
    },
    {
     "cell_type": "markdown",
     "metadata": {},
     "source": [
      "### Import Modules"
     ]
    },
    {
     "cell_type": "code",
     "collapsed": false,
     "input": [
      "import pandas as pd"
     ],
     "language": "python",
     "metadata": {},
     "outputs": [],
     "prompt_number": 1
    },
    {
     "cell_type": "markdown",
     "metadata": {},
     "source": [
      "### Define Functions"
     ]
    },
    {
     "cell_type": "code",
     "collapsed": false,
     "input": [
      "# 1.  Read .ini file -> TODO\n",
      "#     - Adantage file location\n",
      "#     - happ file location\n",
      "#     - Location to write trades to csv\n",
      "\n",
      "\n",
      "# 2.  Open files Raw happ & Advantage into Pandas Dataframe\n",
      "#     - Input:  FilePath\n",
      "#               Type as String:  Adv or happ\n",
      "#     - Output: advPosRaw_df or happPosRaw      \n",
      "def opnTrd_file(filePath, Type):\n",
      "    # Determine Source if \n",
      "    if Type == 'Adv':\n",
      "        dfName='advPosRaw'\n",
      "    elif Type == 'happ':\n",
      "        df=pd.read_csv(filePath, delim_whitespace,header=0 )\n",
      "    else:\n",
      "        print('Error: Who knows - Read Code')\n",
      "    \n",
      "    # read file into df object\n",
      "    \n",
      "    \n",
      "    return df\n",
      "    "
     ],
     "language": "python",
     "metadata": {},
     "outputs": [],
     "prompt_number": 21
    },
    {
     "cell_type": "markdown",
     "metadata": {},
     "source": [
      "### 1. Read Config - TODO"
     ]
    },
    {
     "cell_type": "markdown",
     "metadata": {},
     "source": [
      "### 2. Open Trade hap Trade File"
     ]
    },
    {
     "cell_type": "code",
     "collapsed": false,
     "input": [
      "fileName='POS7_23_17'\n",
      "filePath='C:/Users/ilivni/Documents/TenzanCap/Tenzan/'\n",
      "happPosRaw_df=opnTrd_file(filePath+fileName, 'happ')\n",
      "happPosRaw_df.head(5)"
     ],
     "language": "python",
     "metadata": {},
     "outputs": [
      {
       "ename": "NameError",
       "evalue": "name 'delim_whitespace' is not defined",
       "output_type": "pyerr",
       "traceback": [
        "\u001b[1;31m---------------------------------------------------------------------------\u001b[0m\n\u001b[1;31mNameError\u001b[0m                                 Traceback (most recent call last)",
        "\u001b[1;32m<ipython-input-22-09fb703566bd>\u001b[0m in \u001b[0;36m<module>\u001b[1;34m()\u001b[0m\n\u001b[0;32m      1\u001b[0m \u001b[0mfileName\u001b[0m\u001b[1;33m=\u001b[0m\u001b[1;34m'POS7_23_17'\u001b[0m\u001b[1;33m\u001b[0m\u001b[0m\n\u001b[0;32m      2\u001b[0m \u001b[0mfilePath\u001b[0m\u001b[1;33m=\u001b[0m\u001b[1;34m'C:/Users/ilivni/Documents/TenzanCap/Tenzan/'\u001b[0m\u001b[1;33m\u001b[0m\u001b[0m\n\u001b[1;32m----> 3\u001b[1;33m \u001b[0mhappPosRaw_df\u001b[0m\u001b[1;33m=\u001b[0m\u001b[0mopnTrd_file\u001b[0m\u001b[1;33m(\u001b[0m\u001b[0mfilePath\u001b[0m\u001b[1;33m+\u001b[0m\u001b[0mfileName\u001b[0m\u001b[1;33m,\u001b[0m \u001b[1;34m'happ'\u001b[0m\u001b[1;33m)\u001b[0m\u001b[1;33m\u001b[0m\u001b[0m\n\u001b[0m\u001b[0;32m      4\u001b[0m \u001b[0mhappPosRaw_df\u001b[0m\u001b[1;33m.\u001b[0m\u001b[0mhead\u001b[0m\u001b[1;33m(\u001b[0m\u001b[1;36m5\u001b[0m\u001b[1;33m)\u001b[0m\u001b[1;33m\u001b[0m\u001b[0m\n",
        "\u001b[1;32m<ipython-input-21-37be789ebcc7>\u001b[0m in \u001b[0;36mopnTrd_file\u001b[1;34m(filePath, Type)\u001b[0m\n\u001b[0;32m     14\u001b[0m         \u001b[0mdfName\u001b[0m\u001b[1;33m=\u001b[0m\u001b[1;34m'advPosRaw'\u001b[0m\u001b[1;33m\u001b[0m\u001b[0m\n\u001b[0;32m     15\u001b[0m     \u001b[1;32melif\u001b[0m \u001b[0mType\u001b[0m \u001b[1;33m==\u001b[0m \u001b[1;34m'happ'\u001b[0m\u001b[1;33m:\u001b[0m\u001b[1;33m\u001b[0m\u001b[0m\n\u001b[1;32m---> 16\u001b[1;33m         \u001b[0mdf\u001b[0m\u001b[1;33m=\u001b[0m\u001b[0mpd\u001b[0m\u001b[1;33m.\u001b[0m\u001b[0mread_csv\u001b[0m\u001b[1;33m(\u001b[0m\u001b[0mfilePath\u001b[0m\u001b[1;33m,\u001b[0m \u001b[0mdelim_whitespace\u001b[0m\u001b[1;33m,\u001b[0m\u001b[0mheader\u001b[0m\u001b[1;33m=\u001b[0m\u001b[1;36m0\u001b[0m \u001b[1;33m)\u001b[0m\u001b[1;33m\u001b[0m\u001b[0m\n\u001b[0m\u001b[0;32m     17\u001b[0m     \u001b[1;32melse\u001b[0m\u001b[1;33m:\u001b[0m\u001b[1;33m\u001b[0m\u001b[0m\n\u001b[0;32m     18\u001b[0m         \u001b[0mprint\u001b[0m\u001b[1;33m(\u001b[0m\u001b[1;34m'Error: Who knows - Read Code'\u001b[0m\u001b[1;33m)\u001b[0m\u001b[1;33m\u001b[0m\u001b[0m\n",
        "\u001b[1;31mNameError\u001b[0m: name 'delim_whitespace' is not defined"
       ]
      }
     ],
     "prompt_number": 22
    },
    {
     "cell_type": "code",
     "collapsed": false,
     "input": [],
     "language": "python",
     "metadata": {},
     "outputs": [
      {
       "metadata": {},
       "output_type": "pyout",
       "prompt_number": 10,
       "text": [
        "'happPosRaw'"
       ]
      }
     ],
     "prompt_number": 10
    },
    {
     "cell_type": "code",
     "collapsed": false,
     "input": [],
     "language": "python",
     "metadata": {},
     "outputs": []
    }
   ],
   "metadata": {}
  }
 ]
}