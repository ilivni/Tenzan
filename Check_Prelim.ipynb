{
 "metadata": {
  "name": "",
  "signature": "sha256:9dd7ab8d2570b4c0908fe594346dff53ceb454e5f55964b051e2ecd069275765"
 },
 "nbformat": 3,
 "nbformat_minor": 0,
 "worksheets": [
  {
   "cells": [
    {
     "cell_type": "markdown",
     "metadata": {},
     "source": [
      "# Check Prelim Against Our Trade List\n",
      "**Purpose:** Risk - Make sure that we know our position overnight\n",
      "\n",
      "**What does it do?:** \n",
      "1. This script checks our tading position against Advantages at the end of the day\n",
      "2. Saves our position from **hap** to a csv file for later analysis\n",
      "\n",
      "**How?:**\n",
      "1. Open trade file from **happ**\n",
      "2. Convert to Pandas Dataframe\n",
      "3. Open Advantage trade file\n",
      "4. convert to Pandas Dataframe\n",
      "  * Parse just for todays date\n",
      "5. Compare Files\n",
      "6. Print Confirmation to User:\n",
      "  * No Difference\n",
      "  * We know xyz ... Advantage knows abc\n",
      "7. Save Trade file to CSV on Github\n",
      "\n",
      "# Start of Script"
     ]
    },
    {
     "cell_type": "markdown",
     "metadata": {},
     "source": [
      "### Import Modules"
     ]
    },
    {
     "cell_type": "code",
     "collapsed": false,
     "input": [
      "impo"
     ],
     "language": "python",
     "metadata": {},
     "outputs": []
    }
   ],
   "metadata": {}
  }
 ]
}